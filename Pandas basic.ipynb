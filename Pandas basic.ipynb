{
 "cells": [
  {
   "cell_type": "markdown",
   "id": "7bcbfb31-eb49-449a-92c8-5ecc699d0684",
   "metadata": {},
   "source": [
    "## Create a Pandas Series that contains the following data: 4, 8, 15, 16, 23, and 42. Then, print the series."
   ]
  },
  {
   "cell_type": "code",
   "execution_count": 1,
   "id": "172dec73-6baf-438c-88a6-016c6233e321",
   "metadata": {},
   "outputs": [],
   "source": [
    "import pandas as pd"
   ]
  },
  {
   "cell_type": "code",
   "execution_count": 2,
   "id": "640cd804-b9f0-4ac7-a83f-2d7f0bcceff3",
   "metadata": {},
   "outputs": [
    {
     "name": "stdout",
     "output_type": "stream",
     "text": [
      "Requirement already satisfied: pandas in /opt/conda/lib/python3.10/site-packages (1.5.2)\n",
      "Requirement already satisfied: python-dateutil>=2.8.1 in /opt/conda/lib/python3.10/site-packages (from pandas) (2.8.2)\n",
      "Requirement already satisfied: pytz>=2020.1 in /opt/conda/lib/python3.10/site-packages (from pandas) (2022.6)\n",
      "Requirement already satisfied: numpy>=1.21.0 in /opt/conda/lib/python3.10/site-packages (from pandas) (1.23.5)\n",
      "Requirement already satisfied: six>=1.5 in /opt/conda/lib/python3.10/site-packages (from python-dateutil>=2.8.1->pandas) (1.16.0)\n",
      "Note: you may need to restart the kernel to use updated packages.\n"
     ]
    }
   ],
   "source": [
    "pip install pandas"
   ]
  },
  {
   "cell_type": "code",
   "execution_count": 4,
   "id": "9b4b749e-1ba7-46ed-88c2-20159bb9e32c",
   "metadata": {},
   "outputs": [],
   "source": [
    "data = [4, 8, 15, 16, 23, 42]\n",
    "series = pd.Series(data)"
   ]
  },
  {
   "cell_type": "code",
   "execution_count": 5,
   "id": "07568bcd-31d8-4385-8c07-cfdff534e0a6",
   "metadata": {},
   "outputs": [
    {
     "data": {
      "text/plain": [
       "0     4\n",
       "1     8\n",
       "2    15\n",
       "3    16\n",
       "4    23\n",
       "5    42\n",
       "dtype: int64"
      ]
     },
     "execution_count": 5,
     "metadata": {},
     "output_type": "execute_result"
    }
   ],
   "source": [
    "series"
   ]
  },
  {
   "cell_type": "markdown",
   "id": "c0c92568-8db4-49e7-bc1d-faf46137d90e",
   "metadata": {},
   "source": [
    "## Create a variable of list type containing 10 elements in it, and apply pandas.Series function on the variable print it."
   ]
  },
  {
   "cell_type": "code",
   "execution_count": 6,
   "id": "4b74eba4-ed07-46f1-ad90-d21110eb1c5e",
   "metadata": {},
   "outputs": [
    {
     "name": "stdout",
     "output_type": "stream",
     "text": [
      "0     4\n",
      "1     8\n",
      "2    15\n",
      "3    16\n",
      "4    23\n",
      "5    42\n",
      "dtype: int64\n"
     ]
    }
   ],
   "source": [
    "list = [1,2,3,4,5,6,7,8,9,0]\n",
    "print(pd.Series(data))"
   ]
  },
  {
   "cell_type": "markdown",
   "id": "71fb49e4-4544-435b-b3f0-e0dc4486e1e2",
   "metadata": {},
   "source": [
    "## Create a Pandas DataFrame that contains the following data: Then, print the DataFrame."
   ]
  },
  {
   "cell_type": "code",
   "execution_count": 8,
   "id": "73b0b9e4-1a72-4c3a-932b-04c8b9e2450d",
   "metadata": {},
   "outputs": [
    {
     "name": "stdout",
     "output_type": "stream",
     "text": [
      "     Name  Age  Gender\n",
      "0   Alice   25  Female\n",
      "1     Bob   30    Male\n",
      "2  Claire   27  Female\n"
     ]
    }
   ],
   "source": [
    "data1 = data = {\n",
    "    'Name': ['Alice', 'Bob', 'Claire'],\n",
    "    'Age': [25, 30, 27],\n",
    "    'Gender': ['Female', 'Male', 'Female']\n",
    "}\n",
    "print(pd.DataFrame(data1))"
   ]
  },
  {
   "cell_type": "markdown",
   "id": "f9cfe218-e1ce-4d9e-9198-30688e7aa7b2",
   "metadata": {},
   "source": [
    "## What is ‘DataFrame’ in pandas and how is it different from pandas.series? Explain with an example."
   ]
  },
  {
   "cell_type": "markdown",
   "id": "06a47a21-bc27-4829-9489-37e3ba39c48c",
   "metadata": {},
   "source": [
    "\n",
    "In Pandas, a DataFrame is a two-dimensional, tabular data structure with labeled axes (rows and columns). It can be thought of as a spreadsheet or SQL table, where data is organized in rows and columns. Each column in a DataFrame is a Pandas Series. A Series, on the other hand, is a one-dimensional labeled array.\n",
    "\n",
    "DataFrame:-\n",
    "Structure: Two-dimensional, tabular structure with rows and columns.\n",
    "Creation: Can be created from various data structures, such as lists, dictionaries, NumPy arrays, and other DataFrames.\n",
    "Usage: Suitable for working with tabular data, handling heterogeneous data types, and performing operations on entire datasets.\n",
    "\n",
    "Series:-\n",
    "Structure: One-dimensional labeled array.\n",
    "Creation: Can be created from various data structures, such as lists, NumPy arrays, and other Series.\n",
    "Usage: Suitable for working with a single column of data, performing element-wise operations, and extracting subsets of data."
   ]
  },
  {
   "cell_type": "markdown",
   "id": "390e0f9d-e450-4899-b8ea-caff6f8b2087",
   "metadata": {},
   "source": [
    "## What are some common functions you can use to manipulate data in a Pandas DataFrame? Can you give an example of when you might use one of these functions?"
   ]
  },
  {
   "cell_type": "markdown",
   "id": "0db14891-1aed-436f-aeee-101e98edafcb",
   "metadata": {},
   "source": [
    "\n",
    "Pandas provides a wide range of functions for manipulating data in a DataFrame. Here are some common functions:\n",
    "\n",
    "head and tail function: These functions allow you to view the first or last N rows of your dataFrame."
   ]
  },
  {
   "cell_type": "code",
   "execution_count": 12,
   "id": "e585d839-ddbd-4341-b21e-01a2de0aa46c",
   "metadata": {},
   "outputs": [
    {
     "data": {
      "text/plain": [
       "0     4\n",
       "1     8\n",
       "2    15\n",
       "3    16\n",
       "4    23\n",
       "dtype: int64"
      ]
     },
     "execution_count": 12,
     "metadata": {},
     "output_type": "execute_result"
    }
   ],
   "source": [
    "# Display the first 5 rows of the DataFrame\n",
    "series.head()\n"
   ]
  },
  {
   "cell_type": "markdown",
   "id": "cd1bc248-dbf1-44cf-a285-ebca1ef4cec6",
   "metadata": {},
   "source": [
    "info function: Provides a concise summary of the dataFrame, including the data types and missing values."
   ]
  },
  {
   "cell_type": "code",
   "execution_count": 13,
   "id": "703f778b-8347-48aa-bade-21e87401ffa1",
   "metadata": {},
   "outputs": [
    {
     "name": "stdout",
     "output_type": "stream",
     "text": [
      "<class 'pandas.core.series.Series'>\n",
      "RangeIndex: 6 entries, 0 to 5\n",
      "Series name: None\n",
      "Non-Null Count  Dtype\n",
      "--------------  -----\n",
      "6 non-null      int64\n",
      "dtypes: int64(1)\n",
      "memory usage: 176.0 bytes\n"
     ]
    }
   ],
   "source": [
    "# Display information about the DataFrame\n",
    "series.info()\n"
   ]
  },
  {
   "cell_type": "markdown",
   "id": "df8833a2-a9ce-4c8b-8b0d-795e8500173f",
   "metadata": {},
   "source": [
    "## Which of the following is mutable in nature Series, DataFrame, Panel?"
   ]
  },
  {
   "cell_type": "markdown",
   "id": "db3114f8-a63c-4ad1-bb52-d541e02a5628",
   "metadata": {},
   "source": [
    "In Pandas: Series is mutable. DataFrame is mutable. Panel is deprecated since version 0.25.0 and is not recommended for use. Instead, you should use Panel-like operations on multi-index DataFrames. Multi-index DataFrames are mutable.\n",
    "So, both Series and DataFrame are mutable, meaning you can modify their values, add or remove elements, and perform various operations that change the content of the data structures."
   ]
  },
  {
   "cell_type": "markdown",
   "id": "4716212d-65fc-48c9-a5c0-b4c195eaf2a0",
   "metadata": {},
   "source": [
    "## Create a DataFrame using multiple Series. Explain with an example."
   ]
  },
  {
   "cell_type": "code",
   "execution_count": null,
   "id": "f554a517-fd85-458c-a83a-da374d4cf4d6",
   "metadata": {},
   "outputs": [],
   "source": []
  }
 ],
 "metadata": {
  "kernelspec": {
   "display_name": "Python 3 (ipykernel)",
   "language": "python",
   "name": "python3"
  },
  "language_info": {
   "codemirror_mode": {
    "name": "ipython",
    "version": 3
   },
   "file_extension": ".py",
   "mimetype": "text/x-python",
   "name": "python",
   "nbconvert_exporter": "python",
   "pygments_lexer": "ipython3",
   "version": "3.10.8"
  }
 },
 "nbformat": 4,
 "nbformat_minor": 5
}
